{
 "cells": [
  {
   "cell_type": "code",
   "execution_count": 1,
   "id": "713dcf0d-9ef5-4e89-8633-4fcef6bf88fc",
   "metadata": {
    "tags": []
   },
   "outputs": [
    {
     "name": "stdout",
     "output_type": "stream",
     "text": [
      "x1 = 0, x2 = 0, x3 = 0 => Output (y) = 0\n",
      "x1 = 0, x2 = 0, x3 = 1 => Output (y) = 0\n",
      "x1 = 0, x2 = 1, x3 = 0 => Output (y) = 0\n",
      "x1 = 0, x2 = 1, x3 = 1 => Output (y) = 0\n",
      "x1 = 1, x2 = 0, x3 = 0 => Output (y) = 0\n",
      "x1 = 1, x2 = 0, x3 = 1 => Output (y) = 1\n",
      "x1 = 1, x2 = 1, x3 = 0 => Output (y) = 0\n",
      "x1 = 1, x2 = 1, x3 = 1 => Output (y) = 0\n"
     ]
    }
   ],
   "source": [
    "# Fungsi untuk menghitung output model McCulloch-Pitts dengan logika AND\n",
    "def mcculloch_pitts_and(x1, x2, x3, w1, w2, w3):\n",
    "    # Menemukan nilai net\n",
    "    net = x1 * w1 + x2 * w2 + x3 * w3\n",
    "    \n",
    "    # Menggunakan logika AND sebagai fungsi aktivasi\n",
    "    if net == 3:\n",
    "        output = 1\n",
    "    else:\n",
    "        output = 0\n",
    "    \n",
    "    return output\n",
    "\n",
    "# Inisialisasi Bobot\n",
    "w1 = 1\n",
    "w2 = 1\n",
    "w3 = 1\n",
    "\n",
    "# Perulangan untuk mencetak semua kemungkinan nilai x1, x2, dan x3\n",
    "for x1 in range(2):\n",
    "    for x2 in range(2):\n",
    "        for x3 in range(2):\n",
    "            # Menampilkan nilai input x1, x2, dan x3\n",
    "            print(f\"x1 = {x1}, x2 = {x2}, x3 = {x3} => \", end=\"\")\n",
    "            \n",
    "            # Mengubah nilai x2 menjadi kebalikannya\n",
    "            x2_inversed = 1 - x2\n",
    "            \n",
    "            # Mendapatkan output dari model McCulloch-Pitts dengan logika AND\n",
    "            output = mcculloch_pitts_and(x1, x2_inversed, x3, w1, w2, w3)\n",
    "            \n",
    "            # Menampilkan output\n",
    "            print(f\"Output (y) = {output}\")"
   ]
  },
  {
   "cell_type": "code",
   "execution_count": 2,
   "id": "0ce0982d-bc8b-4bcd-a1b8-1be2aae77c64",
   "metadata": {
    "tags": []
   },
   "outputs": [
    {
     "name": "stdout",
     "output_type": "stream",
     "text": [
      "Input: 0 0 Output: 1\n",
      "Input: 0 1 Output: 1\n",
      "Input: 1 0 Output: 1\n",
      "Input: 1 1 Output: 1\n"
     ]
    }
   ],
   "source": [
    "def hebb_nor_in_out_biner(data):\n",
    "    # Inisialisasi bobot\n",
    "    w1 = 0\n",
    "    w2 = 0\n",
    "    b = 0\n",
    "\n",
    "    # Pelatihan jaringan\n",
    "    for d in data:\n",
    "        x1 = d[0]\n",
    "        x2 = d[1]\n",
    "        t = d[2]\n",
    "        delta_w1 = x1*t\n",
    "        delta_w2 = x2*t\n",
    "        delta_b = 1*t\n",
    "        w1 = w1 + delta_w1\n",
    "        w2 = w2 + delta_w2\n",
    "        b = b + delta_b\n",
    "\n",
    "    # Pengujian jaringan\n",
    "    for d in data:\n",
    "        x1 = d[0]\n",
    "        x2 = d[1]\n",
    "        t = d[2]\n",
    "        y_in = w1*x1 + w2*x2 + b\n",
    "        if y_in >= 0:\n",
    "            y_out = 1\n",
    "        else:\n",
    "            y_out = 0\n",
    "        print(\"Input:\", x1, x2, \"Output:\", y_out)\n",
    "data = [[0, 0, 1],\n",
    "        [0, 1, 0],\n",
    "        [1, 0, 0],\n",
    "        [1, 1, 0]]\n",
    "\n",
    "hebb_nor_in_out_biner(data)"
   ]
  },
  {
   "cell_type": "code",
   "execution_count": 3,
   "id": "ae50b5b0-9b66-4fb3-b60d-152b43a6b65e",
   "metadata": {
    "tags": []
   },
   "outputs": [
    {
     "name": "stdout",
     "output_type": "stream",
     "text": [
      "Input: 0 0 Output: -1\n",
      "Input: 0 1 Output: -1\n",
      "Input: 1 0 Output: -1\n",
      "Input: 1 1 Output: -1\n"
     ]
    }
   ],
   "source": [
    "def hebb_nor_in_biner_out_bipolar(data):\n",
    "    # Inisialisasi bobot\n",
    "    w1 = 0\n",
    "    w2 = 0\n",
    "    b = 0\n",
    "\n",
    "    # Pelatihan jaringan\n",
    "    for d in data:\n",
    "        x1 = d[0]\n",
    "        x2 = d[1]\n",
    "        t = d[2]\n",
    "        delta_w1 = x1*t\n",
    "        delta_w2 = x2*t\n",
    "        delta_b = 1*t\n",
    "        w1 = w1 + delta_w1\n",
    "        w2 = w2 + delta_w2\n",
    "        b = b + delta_b\n",
    "\n",
    "    # Pengujian jaringan\n",
    "    for d in data:\n",
    "        x1 = d[0]\n",
    "        x2 = d[1]\n",
    "        t = d[2]\n",
    "        y_in = w1*x1 + w2*x2 + b\n",
    "        if y_in >= 0:\n",
    "            y_out = 1\n",
    "        else:\n",
    "            y_out = -1\n",
    "        print(\"Input:\", x1, x2, \"Output:\", y_out)\n",
    "data = [[0, 0, 1],\n",
    "        [0, 1, -1],\n",
    "        [1, 0, -1],\n",
    "        [1, 1, -1]]\n",
    "\n",
    "hebb_nor_in_biner_out_bipolar(data)"
   ]
  },
  {
   "cell_type": "code",
   "execution_count": 4,
   "id": "f2ed8404-0ed7-4db6-adac-fc28d714d76c",
   "metadata": {
    "tags": []
   },
   "outputs": [
    {
     "name": "stdout",
     "output_type": "stream",
     "text": [
      "Input: -1 -1 Output: 1\n",
      "Input: -1 1 Output: -1\n",
      "Input: 1 -1 Output: -1\n",
      "Input: 1 1 Output: -1\n"
     ]
    }
   ],
   "source": [
    "def hebb_nor_in_out_bipolar(data):\n",
    "    # Inisialisasi bobot\n",
    "    w1 = 0\n",
    "    w2 = 0\n",
    "    b = 0\n",
    "\n",
    "    # Pelatihan jaringan\n",
    "    for d in data:\n",
    "        x1 = d[0]\n",
    "        x2 = d[1]\n",
    "        t = d[2]\n",
    "        delta_w1 = x1*t\n",
    "        delta_w2 = x2*t\n",
    "        delta_b = 1*t\n",
    "        w1 = w1 + delta_w1\n",
    "        w2 = w2 + delta_w2\n",
    "        b = b + delta_b\n",
    "\n",
    "    # Pengujian jaringan\n",
    "    for d in data:\n",
    "        x1 = d[0]\n",
    "        x2 = d[1]\n",
    "        t = d[2]\n",
    "        y_in = w1*x1 + w2*x2 + b\n",
    "        if y_in >= 0:\n",
    "            y_out = 1\n",
    "        else:\n",
    "            y_out = -1\n",
    "        print(\"Input:\", x1, x2, \"Output:\", y_out)\n",
    "data = [[-1, -1, 1],\n",
    "        [-1, 1, -1],\n",
    "        [1, -1, -1],\n",
    "        [1, 1, -1]]\n",
    "\n",
    "hebb_nor_in_out_bipolar(data)"
   ]
  }
 ],
 "metadata": {
  "kernelspec": {
   "display_name": "Python 3 (ipykernel)",
   "language": "python",
   "name": "python3"
  },
  "language_info": {
   "codemirror_mode": {
    "name": "ipython",
    "version": 3
   },
   "file_extension": ".py",
   "mimetype": "text/x-python",
   "name": "python",
   "nbconvert_exporter": "python",
   "pygments_lexer": "ipython3",
   "version": "3.11.4"
  }
 },
 "nbformat": 4,
 "nbformat_minor": 5
}
